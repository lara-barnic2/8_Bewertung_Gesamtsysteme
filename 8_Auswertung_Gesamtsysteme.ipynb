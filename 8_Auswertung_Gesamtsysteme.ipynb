{
 "cells": [
  {
   "cell_type": "markdown",
   "metadata": {},
   "source": [
    "# Auswertung der Gesamtsysteme\n",
    "## Data Import & Processing"
   ]
  },
  {
   "cell_type": "code",
   "execution_count": null,
   "metadata": {},
   "outputs": [
    {
     "data": {
      "text/plain": [
       "Strom_ges[kW]            74.098194\n",
       "Strom_WP[kW]             70.740811\n",
       "Strom_TWW_Nutzung[kW]    13.738463\n",
       "PV[kW]                   45.058665\n",
       "Netzstrom[kW]            74.098194\n",
       "dtype: float64"
      ]
     },
     "execution_count": 53,
     "metadata": {},
     "output_type": "execute_result"
    }
   ],
   "source": [
    "import pandas as pd\n",
    "import matplotlib.pyplot as plt\n",
    "\n",
    "systems={} # anlegen dictionnaire\n",
    "system_names=[\"Bestand\", \"dezentral\", \"NT-WN\", \"kalte_NW\"]  #define list system names\n",
    " \n",
    "\n",
    "# define paths\n",
    "paths = {\"NT-WN\": r\"C:\\Users\\lbarnic\\OneDrive - Fraunhofer\\A_Bearbeitung\\8_Bewertung_Gesamtsysteme_REP\\import_data\\NT_WN_Output.out\",\n",
    "         \"kalte_NW\": r\"C:\\Users\\lbarnic\\OneDrive - Fraunhofer\\A_Bearbeitung\\7_Gesamtsysteme_REP\\III_kaltes_Nahwaermenetz\\Kalte_NW_Output.out\"} # später weitere Pfade einfügen\n",
    "\n",
    "# data import function\n",
    "def import_data(path):\n",
    "    # system = pd.read_csv(path)\n",
    "    system = pd.read_csv(path, sep=',', skipinitialspace=True, index_col=0)\n",
    "    system = system.drop(system.columns[-1], axis=1)\n",
    "    system.columns = [\"Strom_ges[kW]\", \"Strom_WP[kW]\", \"Strom_TWW_Nutzung[kW]\", \"PV[kW]\"]\n",
    "    return system\n",
    "\n",
    "# import results for each path  \n",
    "for name, path in paths.items():    # define paths\n",
    "    df = import_data(path)   \n",
    "    systems[name] = df              # df ablegen unter zugehörigem name\n",
    "    systems[name][\"Netzstrom[kW]\"] = systems[name][\"Strom_ges[kW]\"] - systems[name][\"PV[kW]\"] # calculate Netzstrom in new column as difference from Strom_ges and PV\n",
    "\n",
    "   \n",
    "# Idee: FUnktionen zur Auswertung definieren und über loop für alle 4 durchlaufen lassen. Betrachten von einem Jahr in Betrieb.\n",
    "systems[\"HT-WN\"].max()\n",
    "\n"
   ]
  },
  {
   "cell_type": "markdown",
   "metadata": {},
   "source": [
    "___\n",
    "## Ökologische Nachhaltigkeit\n",
    "### CO2-Emissionen im Betrieb\n",
    "#### define functions + values\n",
    "\n"
   ]
  },
  {
   "cell_type": "code",
   "execution_count": null,
   "metadata": {},
   "outputs": [
    {
     "ename": "SyntaxError",
     "evalue": "invalid syntax (3902610299.py, line 6)",
     "output_type": "error",
     "traceback": [
      "\u001b[1;36m  Cell \u001b[1;32mIn[31], line 6\u001b[1;36m\u001b[0m\n\u001b[1;33m    calculateco2e=\u001b[0m\n\u001b[1;37m                  ^\u001b[0m\n\u001b[1;31mSyntaxError\u001b[0m\u001b[1;31m:\u001b[0m invalid syntax\n"
     ]
    }
   ],
   "source": [
    "\n",
    "\n",
    "# given data to calculate CO2e\n",
    "\n",
    "\n",
    "\n",
    "# function to calculate CO2e\n",
    "calculateco2e=\n",
    "\n",
    "\n",
    "\n"
   ]
  },
  {
   "cell_type": "markdown",
   "metadata": {},
   "source": [
    "#### use functions"
   ]
  },
  {
   "cell_type": "code",
   "execution_count": null,
   "metadata": {},
   "outputs": [],
   "source": []
  },
  {
   "cell_type": "markdown",
   "metadata": {},
   "source": [
    "### Primärenergiebedarf\n",
    "#### Randbedingungen"
   ]
  },
  {
   "cell_type": "code",
   "execution_count": null,
   "metadata": {},
   "outputs": [],
   "source": [
    "# Tabelle PEF\n",
    "PEF = {\n",
    "    \"Nummer\": [1, 2, 3, 4, 5, 6, 7, 8, 9, 10, 11, 12, 13, 14, 15, 16],\n",
    "    \"Kategorie\": [\n",
    "        \"Fossile Brennstoffe\", \"Fossile Brennstoffe\", \"Fossile Brennstoffe\", \"Fossile Brennstoffe\", \"Fossile Brennstoffe\",\n",
    "        \"Biogene Brennstoffe\", \"Biogene Brennstoffe\", \"Biogene Brennstoffe\", \"Strom\", \"Strom\", \"Strom\",\n",
    "        \"Wärme, Kälte\", \"Wärme, Kälte\", \"Wärme, Kälte\", \"Wärme, Kälte\", \"Siedlungsabfälle\"\n",
    "    ],\n",
    "    \"Energieträger\": [\n",
    "        \"Heizöl\", \"Erdgas\", \"Flüssiggas\", \"Steinkohle\", \"Braunkohle\", \"Biogas\", \"Bioöl\", \"Holz\", \"netzbezogen\",\n",
    "        \"gebäudenah erzeugt (aus Photovoltaik oder Windkraft)\", \"Verdrängungsstrommix für KWK\", \"Erdwärme, Geothermie, Solarthermie, Umgebungswärme\",\n",
    "        \"Erdkälte, Umgebungskälte\", \"Abwärme\", \"Wärme aus KWK, gebäudeintegriert oder gebäudenah\", \"\"\n",
    "    ],\n",
    "    \"Primärenergiefaktoren nicht erneuerbarer Anteil\": [\n",
    "        1.1, 1.1, 1.1, 1.1, 1.2, 1.1, 1.1, 0.2, 1.8, 0.0, 2.8, 0.0, 0.0, 0.0, \"nach Verfahren B gemäß DIN V 18599-9: 2018-09 Abschnitt 5.2.5 oder DIN V 18599-9: 2018-09 Abschnitt 5.3.5.1\", 0.0\n",
    "    ]\n",
    "}\n",
    "\n",
    "# DataFrame erstellen\n",
    "df_PEF = pd.DataFrame(PEF)\n",
    "\n",
    "# DataFrame anzeigen\n",
    "display(df_PEF)"
   ]
  },
  {
   "cell_type": "markdown",
   "metadata": {},
   "source": [
    "___\n",
    "## Ökonomische Bewertung\n"
   ]
  }
 ],
 "metadata": {
  "kernelspec": {
   "display_name": "Python 3",
   "language": "python",
   "name": "python3"
  },
  "language_info": {
   "codemirror_mode": {
    "name": "ipython",
    "version": 3
   },
   "file_extension": ".py",
   "mimetype": "text/x-python",
   "name": "python",
   "nbconvert_exporter": "python",
   "pygments_lexer": "ipython3",
   "version": "3.13.0"
  }
 },
 "nbformat": 4,
 "nbformat_minor": 2
}
